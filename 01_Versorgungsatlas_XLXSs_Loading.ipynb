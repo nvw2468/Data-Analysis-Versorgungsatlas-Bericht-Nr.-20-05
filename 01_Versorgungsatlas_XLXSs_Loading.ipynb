{
 "cells": [
  {
   "cell_type": "code",
   "execution_count": 3,
   "metadata": {},
   "outputs": [
    {
     "name": "stdout",
     "output_type": "stream",
     "text": [
      " We will load data from the directory: 20200824200527_Downloads\n",
      "Loading file: data_id_110_kv_10_j_1514764800.xlsx\n",
      "In the file it was stated that there are 17 which of 17 should be with valid value.\n",
      "Loading file: data_id_110_kv_11_j_1514764800.xlsx\n",
      "In the file it was stated that there are 17 which of 17 should be with valid value.\n",
      "Loading file: data_id_110_kv_1_j_1514764800.xlsx\n",
      "In the file it was stated that there are 17 which of 17 should be with valid value.\n",
      "Loading file: data_id_110_kv_2_j_1514764800.xlsx\n",
      "In the file it was stated that there are 17 which of 17 should be with valid value.\n",
      "Loading file: data_id_110_kv_3_j_1514764800.xlsx\n",
      "In the file it was stated that there are 17 which of 17 should be with valid value.\n",
      "Loading file: data_id_110_kv_4_j_1514764800.xlsx\n",
      "In the file it was stated that there are 17 which of 17 should be with valid value.\n",
      "Loading file: data_id_110_kv_5_j_1514764800.xlsx\n",
      "In the file it was stated that there are 17 which of 17 should be with valid value.\n",
      "Loading file: data_id_110_kv_7_j_1514764800.xlsx\n",
      "In the file it was stated that there are 17 which of 17 should be with valid value.\n",
      "Loading file: data_id_110_kv_8_j_1514764800.xlsx\n",
      "In the file it was stated that there are 17 which of 17 should be with valid value.\n",
      "Loading file: data_id_110_kv_9_j_1514764800.xlsx\n",
      "In the file it was stated that there are 17 which of 17 should be with valid value.\n"
     ]
    }
   ],
   "source": [
    "# Assumption: The files are already downloaded (for example using the script Dataimport) and saved in a subdirectory named YYYYMMDDHHMMSS_Downloads, where YYYYMMDDHHMMSS is the timestamp, when the dowenload took place.\n",
    "# We intent here to read the dat from the most recent download. Therefore we have to find out which subdirectory is the most recent.\n",
    "# We do not verify the name of a directory if it has the required form.\n",
    "from datetime import datetime\n",
    "import pandas as pd\n",
    "import numpy as np\n",
    "import os # file tree navigation\n",
    "import re # regex expressions\n",
    "from pathlib import Path # Requirement:Python >=3.5\n",
    "import read_va_xlsx as va\n",
    "#Find the latest download folder\n",
    "list_dirs=np.array(next(os.walk('.'))[1])\n",
    "bool_ls=  [x.find('_Downloads')>=0 for x in list_dirs]\n",
    "downloads_dirs=list_dirs[bool_ls]\n",
    "downloads_dirs=np.sort(downloads_dirs)[::-1]\n",
    "last_download_dir=downloads_dirs[0]\n",
    "print(\" We will load data from the directory: \" +last_download_dir)\n",
    "last_download_dirpath=os.path.join(os.getcwd(),last_download_dir)\n",
    "df=pd.DataFrame()\n",
    "for root,dirs,files in os.walk(last_download_dirpath):\n",
    "    for file in files:\n",
    "        print(\"Loading file: \"+file)\n",
    "        filepath=os.path.join(last_download_dirpath,file)\n",
    "        metadata,read_df=va.read_va_xlsx(filepath)\n",
    "        df=df.append(read_df)\n",
    "       \n"
   ]
  },
  {
   "cell_type": "code",
   "execution_count": 4,
   "metadata": {},
   "outputs": [
    {
     "name": "stdout",
     "output_type": "stream",
     "text": [
      "<class 'pandas.core.frame.DataFrame'>\n",
      "Int64Index: 170 entries, 0 to 16\n",
      "Data columns (total 8 columns):\n",
      "Region             170 non-null object\n",
      "Regions-ID         170 non-null int64\n",
      "Wert               170 non-null float64\n",
      "Ausprägungswert    170 non-null object\n",
      "Region_Type        170 non-null object\n",
      "Zeiteinheit        170 non-null object\n",
      "Zeitabschnitt      170 non-null object\n",
      "Ausprägung         170 non-null object\n",
      "dtypes: float64(1), int64(1), object(6)\n",
      "memory usage: 12.0+ KB\n"
     ]
    }
   ],
   "source": [
    "df.info()"
   ]
  }
 ],
 "metadata": {
  "kernelspec": {
   "display_name": "Python 3",
   "language": "python",
   "name": "python3"
  },
  "language_info": {
   "codemirror_mode": {
    "name": "ipython",
    "version": 3
   },
   "file_extension": ".py",
   "mimetype": "text/x-python",
   "name": "python",
   "nbconvert_exporter": "python",
   "pygments_lexer": "ipython3",
   "version": "3.7.4"
  }
 },
 "nbformat": 4,
 "nbformat_minor": 2
}
